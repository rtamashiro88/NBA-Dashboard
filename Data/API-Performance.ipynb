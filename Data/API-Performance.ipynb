{
 "cells": [
  {
   "cell_type": "code",
   "execution_count": 1,
   "metadata": {},
   "outputs": [],
   "source": [
    "from API import KEY, URL\n",
    "from pandas import DataFrame, merge, to_datetime, concat\n",
    "from requests import get\n",
    "from json import dumps\n",
    "from datetime import datetime"
   ]
  },
  {
   "cell_type": "code",
   "execution_count": 16,
   "metadata": {},
   "outputs": [
    {
     "name": "stdout",
     "output_type": "stream",
     "text": [
      "2024-04-17 05:07:49.687844\n"
     ]
    }
   ],
   "source": [
    "print(datetime.now())"
   ]
  },
  {
   "cell_type": "code",
   "execution_count": 18,
   "metadata": {},
   "outputs": [],
   "source": [
    "def extract_player_game_data(season):\n",
    "    print(f'{datetime.now()} [API] QUery Init')\n",
    "    try:\n",
    "        api_page = 0\n",
    "        api_error = False\n",
    "        while not api_error:\n",
    "            api_page += 1\n",
    "            qry = f'{URL}playerperfs/NBA/?key={KEY}&season={str(season)}&max=1000&page={api_page}'\n",
    "            api_data = get(qry).json()\n",
    "            \n",
    "            if 'success' in api_data.keys():\n",
    "                if api_page == 1:\n",
    "                    game_df = DataFrame(api_data['performances'].values())\n",
    "                    print(f'{datetime.now()} [API|Game_Data] Page:{api_page} >> Record Ct:{len(game_df)}') \n",
    "                else:\n",
    "                    api_df = DataFrame(api_data['performances'].values())\n",
    "                    game_df = concat([game_df, api_df], ignore_index=True)\n",
    "                    print(f'{datetime.now()} [API|Game_Data] Page:{api_page} >> Record Ct:{len(game_df)}')\n",
    "    except:\n",
    "        print(f'{datetime.now()} [API|Game_Data] Completed >> Records:{game_df}')\n",
    "        game_df.info()\n",
    "        return game_df    \n",
    "        "
   ]
  },
  {
   "cell_type": "code",
   "execution_count": 19,
   "metadata": {},
   "outputs": [
    {
     "name": "stdout",
     "output_type": "stream",
     "text": [
      "2024-04-17 05:10:40.479477 [API] QUery Init\n",
      "2024-04-17 05:10:44.115012 [API|Game_Data] Page:1 >> Record Ct:1000\n",
      "2024-04-17 05:10:47.576306 [API|Game_Data] Page:2 >> Record Ct:2000\n",
      "2024-04-17 05:10:51.160125 [API|Game_Data] Page:3 >> Record Ct:3000\n",
      "2024-04-17 05:10:54.714196 [API|Game_Data] Page:4 >> Record Ct:4000\n",
      "2024-04-17 05:10:58.401900 [API|Game_Data] Page:5 >> Record Ct:5000\n",
      "2024-04-17 05:11:01.817826 [API|Game_Data] Page:6 >> Record Ct:6000\n",
      "2024-04-17 05:11:05.259277 [API|Game_Data] Page:7 >> Record Ct:7000\n",
      "2024-04-17 05:11:08.888624 [API|Game_Data] Page:8 >> Record Ct:8000\n",
      "2024-04-17 05:11:12.495781 [API|Game_Data] Page:9 >> Record Ct:9000\n",
      "2024-04-17 05:11:16.467104 [API|Game_Data] Page:10 >> Record Ct:10000\n",
      "2024-04-17 05:11:19.943627 [API|Game_Data] Page:11 >> Record Ct:11000\n",
      "2024-04-17 05:11:23.657721 [API|Game_Data] Page:12 >> Record Ct:12000\n",
      "2024-04-17 05:11:27.060562 [API|Game_Data] Page:13 >> Record Ct:13000\n",
      "2024-04-17 05:11:30.813800 [API|Game_Data] Page:14 >> Record Ct:14000\n",
      "2024-04-17 05:11:34.423592 [API|Game_Data] Page:15 >> Record Ct:15000\n",
      "2024-04-17 05:11:38.068427 [API|Game_Data] Page:16 >> Record Ct:16000\n",
      "2024-04-17 05:11:41.585707 [API|Game_Data] Page:17 >> Record Ct:17000\n",
      "2024-04-17 05:11:44.859738 [API|Game_Data] Page:18 >> Record Ct:18000\n",
      "2024-04-17 05:11:48.297340 [API|Game_Data] Page:19 >> Record Ct:19000\n",
      "2024-04-17 05:11:52.127343 [API|Game_Data] Page:20 >> Record Ct:20000\n",
      "2024-04-17 05:11:55.653884 [API|Game_Data] Page:21 >> Record Ct:21000\n",
      "2024-04-17 05:11:59.566067 [API|Game_Data] Page:22 >> Record Ct:22000\n",
      "2024-04-17 05:12:03.020986 [API|Game_Data] Page:23 >> Record Ct:23000\n",
      "2024-04-17 05:12:06.972670 [API|Game_Data] Page:24 >> Record Ct:24000\n",
      "2024-04-17 05:12:10.772719 [API|Game_Data] Page:25 >> Record Ct:25000\n",
      "2024-04-17 05:12:14.483999 [API|Game_Data] Page:26 >> Record Ct:26000\n",
      "2024-04-17 05:12:16.369725 [API|Game_Data] Page:27 >> Record Ct:26059\n",
      "2024-04-17 05:12:17.912908 [API|Game_Data] Completed >> Records:             ID            Player Player_ID PlayerNo Position Starter  \\\n",
      "0      12097640      LeBron James      1871       23       PF       Y   \n",
      "1      12097641     Anthony Davis       859        3        C       Y   \n",
      "2      12097642  D'Angelo Russell      3372        1       PG       Y   \n",
      "3      12097643     Rui Hachimura   1686267       28       SF       Y   \n",
      "4      12097644     Austin Reaves  40722893       15       SG       Y   \n",
      "...         ...               ...       ...      ...      ...     ...   \n",
      "26054  12001374    Gary Payton II    124084        8      NaN       N   \n",
      "26055  12001375  Jonathan Kuminga  40722925       00      NaN       N   \n",
      "26056  12001376       Dario Saric    119797       20      NaN       N   \n",
      "26057  12001377       Moses Moody  40722926        4      NaN       N   \n",
      "26058  12001378       Cory Joseph      2037        9      NaN       N   \n",
      "\n",
      "                                                    game  \\\n",
      "0      {'Game_ID': '1079173', 'GameDay': '2024-04-16'...   \n",
      "1      {'Game_ID': '1079173', 'GameDay': '2024-04-16'...   \n",
      "2      {'Game_ID': '1079173', 'GameDay': '2024-04-16'...   \n",
      "3      {'Game_ID': '1079173', 'GameDay': '2024-04-16'...   \n",
      "4      {'Game_ID': '1079173', 'GameDay': '2024-04-16'...   \n",
      "...                                                  ...   \n",
      "26054  {'Game_ID': '1077535', 'GameDay': '2023-10-24'...   \n",
      "26055  {'Game_ID': '1077535', 'GameDay': '2023-10-24'...   \n",
      "26056  {'Game_ID': '1077535', 'GameDay': '2023-10-24'...   \n",
      "26057  {'Game_ID': '1077535', 'GameDay': '2023-10-24'...   \n",
      "26058  {'Game_ID': '1077535', 'GameDay': '2023-10-24'...   \n",
      "\n",
      "                                                team  \\\n",
      "0                {'ID': '27', 'Team': 'L.A. Lakers'}   \n",
      "1                {'ID': '27', 'Team': 'L.A. Lakers'}   \n",
      "2                {'ID': '27', 'Team': 'L.A. Lakers'}   \n",
      "3                {'ID': '27', 'Team': 'L.A. Lakers'}   \n",
      "4                {'ID': '27', 'Team': 'L.A. Lakers'}   \n",
      "...                                              ...   \n",
      "26054  {'ID': '25', 'Team': 'Golden State Warriors'}   \n",
      "26055  {'ID': '25', 'Team': 'Golden State Warriors'}   \n",
      "26056  {'ID': '25', 'Team': 'Golden State Warriors'}   \n",
      "26057  {'ID': '25', 'Team': 'Golden State Warriors'}   \n",
      "26058  {'ID': '25', 'Team': 'Golden State Warriors'}   \n",
      "\n",
      "                                       opponent MIN  ... BLK OREB TO PF  \\\n",
      "0       {'ID': '38', 'Opponent': 'New Orleans'}  40  ...   2    0  2  0   \n",
      "1       {'ID': '38', 'Opponent': 'New Orleans'}  40  ...   3    6  3  4   \n",
      "2       {'ID': '38', 'Opponent': 'New Orleans'}  36  ...   1    0  1  3   \n",
      "3       {'ID': '38', 'Opponent': 'New Orleans'}  32  ...   0    0  0  2   \n",
      "4       {'ID': '38', 'Opponent': 'New Orleans'}  36  ...   2    0  0  1   \n",
      "...                                         ...  ..  ...  ..  ... .. ..   \n",
      "26054  {'ID': '14', 'Opponent': 'Phoenix Suns'}  21  ...   0    0  0  1   \n",
      "26055  {'ID': '14', 'Opponent': 'Phoenix Suns'}  20  ...   1    2  2  5   \n",
      "26056  {'ID': '14', 'Opponent': 'Phoenix Suns'}  20  ...   3    4  0  3   \n",
      "26057  {'ID': '14', 'Opponent': 'Phoenix Suns'}  17  ...   1    1  1  1   \n",
      "26058  {'ID': '14', 'Opponent': 'Phoenix Suns'}   3  ...   0    1  0  0   \n",
      "\n",
      "      PerfScore PerfScoreSeasonAvg PresenceRate AdjPresenceRate  \\\n",
      "0      [13, 13]              13.32        22.01           26.67   \n",
      "1      [12, 12]              13.91        26.32           27.56   \n",
      "2        [8, 8]               8.01          NaN             NaN   \n",
      "3        [5, 5]               5.73         7.66            9.78   \n",
      "4        [8, 8]               7.96        11.96           14.22   \n",
      "...         ...                ...          ...             ...   \n",
      "26054    [1, 1]               2.82          NaN             NaN   \n",
      "26055    [6, 6]               7.12          NaN             NaN   \n",
      "26056    [4, 4]               4.53          NaN             NaN   \n",
      "26057    [6, 6]               3.45          NaN             NaN   \n",
      "26058         0               1.23          NaN             NaN   \n",
      "\n",
      "               Statline PerfScoreSeasonAvgDev  \n",
      "0      40m 23p 9r 9a 2b                   NaN  \n",
      "1        40m 20p 15r 3b                   NaN  \n",
      "2         36m 21p 6a 1b                   NaN  \n",
      "3         32m 13p 1r 1a                   NaN  \n",
      "4      36m 16p 5r 6a 2b                  0.04  \n",
      "...                 ...                   ...  \n",
      "26054      21m 1p 2r 2a                   NaN  \n",
      "26055     20m 12p 5r 1b                   NaN  \n",
      "26056   20m 7p 7r 1a 3b                   NaN  \n",
      "26057     17m 11p 3r 1b                  2.55  \n",
      "26058          3m 1r 1a                   NaN  \n",
      "\n",
      "[26059 rows x 30 columns]\n",
      "<class 'pandas.core.frame.DataFrame'>\n",
      "RangeIndex: 26059 entries, 0 to 26058\n",
      "Data columns (total 30 columns):\n",
      " #   Column                 Non-Null Count  Dtype \n",
      "---  ------                 --------------  ----- \n",
      " 0   ID                     26059 non-null  object\n",
      " 1   Player                 26059 non-null  object\n",
      " 2   Player_ID              26059 non-null  object\n",
      " 3   PlayerNo               24846 non-null  object\n",
      " 4   Position               22129 non-null  object\n",
      " 5   Starter                26059 non-null  object\n",
      " 6   game                   26059 non-null  object\n",
      " 7   team                   26059 non-null  object\n",
      " 8   opponent               26059 non-null  object\n",
      " 9   MIN                    26059 non-null  object\n",
      " 10  PTS                    26059 non-null  object\n",
      " 11  FGM                    26059 non-null  object\n",
      " 12  FGA                    26059 non-null  object\n",
      " 13  ThreeFM                26059 non-null  object\n",
      " 14  ThreeFA                26059 non-null  object\n",
      " 15  FTM                    26059 non-null  object\n",
      " 16  FTA                    26059 non-null  object\n",
      " 17  REB                    26059 non-null  object\n",
      " 18  AST                    26059 non-null  object\n",
      " 19  STL                    26059 non-null  object\n",
      " 20  BLK                    26059 non-null  object\n",
      " 21  OREB                   26059 non-null  object\n",
      " 22  TO                     26059 non-null  object\n",
      " 23  PF                     26059 non-null  object\n",
      " 24  PerfScore              26059 non-null  object\n",
      " 25  PerfScoreSeasonAvg     26019 non-null  object\n",
      " 26  PresenceRate           18001 non-null  object\n",
      " 27  AdjPresenceRate        17998 non-null  object\n",
      " 28  Statline               26059 non-null  object\n",
      " 29  PerfScoreSeasonAvgDev  11798 non-null  object\n",
      "dtypes: object(30)\n",
      "memory usage: 6.0+ MB\n"
     ]
    }
   ],
   "source": [
    "player_game_summary = extract_player_game_data(season=2024)"
   ]
  },
  {
   "cell_type": "code",
   "execution_count": null,
   "metadata": {},
   "outputs": [],
   "source": [
    "# Pagination Required to Extract All Game Data\n",
    "qry = f'{URL}playerperfs/NBA/?key={KEY}&season=2024&max=1000&page=25'\n",
    "data = get(qry).json()\n",
    "data.keys()"
   ]
  },
  {
   "cell_type": "code",
   "execution_count": 20,
   "metadata": {},
   "outputs": [
    {
     "name": "stdout",
     "output_type": "stream",
     "text": [
      "<class 'pandas.core.frame.DataFrame'>\n",
      "RangeIndex: 26059 entries, 0 to 26058\n",
      "Data columns (total 30 columns):\n",
      " #   Column                 Non-Null Count  Dtype \n",
      "---  ------                 --------------  ----- \n",
      " 0   ID                     26059 non-null  object\n",
      " 1   Player                 26059 non-null  object\n",
      " 2   Player_ID              26059 non-null  object\n",
      " 3   PlayerNo               24846 non-null  object\n",
      " 4   Position               22129 non-null  object\n",
      " 5   Starter                26059 non-null  object\n",
      " 6   game                   26059 non-null  object\n",
      " 7   team                   26059 non-null  object\n",
      " 8   opponent               26059 non-null  object\n",
      " 9   MIN                    26059 non-null  object\n",
      " 10  PTS                    26059 non-null  object\n",
      " 11  FGM                    26059 non-null  object\n",
      " 12  FGA                    26059 non-null  object\n",
      " 13  ThreeFM                26059 non-null  object\n",
      " 14  ThreeFA                26059 non-null  object\n",
      " 15  FTM                    26059 non-null  object\n",
      " 16  FTA                    26059 non-null  object\n",
      " 17  REB                    26059 non-null  object\n",
      " 18  AST                    26059 non-null  object\n",
      " 19  STL                    26059 non-null  object\n",
      " 20  BLK                    26059 non-null  object\n",
      " 21  OREB                   26059 non-null  object\n",
      " 22  TO                     26059 non-null  object\n",
      " 23  PF                     26059 non-null  object\n",
      " 24  PerfScore              26059 non-null  object\n",
      " 25  PerfScoreSeasonAvg     26019 non-null  object\n",
      " 26  PresenceRate           18001 non-null  object\n",
      " 27  AdjPresenceRate        17998 non-null  object\n",
      " 28  Statline               26059 non-null  object\n",
      " 29  PerfScoreSeasonAvgDev  11798 non-null  object\n",
      "dtypes: object(30)\n",
      "memory usage: 6.0+ MB\n"
     ]
    }
   ],
   "source": [
    "player_game_summary.info()"
   ]
  },
  {
   "cell_type": "code",
   "execution_count": 6,
   "metadata": {},
   "outputs": [
    {
     "data": {
      "text/html": [
       "<div>\n",
       "<style scoped>\n",
       "    .dataframe tbody tr th:only-of-type {\n",
       "        vertical-align: middle;\n",
       "    }\n",
       "\n",
       "    .dataframe tbody tr th {\n",
       "        vertical-align: top;\n",
       "    }\n",
       "\n",
       "    .dataframe thead th {\n",
       "        text-align: right;\n",
       "    }\n",
       "</style>\n",
       "<table border=\"1\" class=\"dataframe\">\n",
       "  <thead>\n",
       "    <tr style=\"text-align: right;\">\n",
       "      <th></th>\n",
       "      <th>ID</th>\n",
       "      <th>Player</th>\n",
       "      <th>Player_ID</th>\n",
       "      <th>PlayerNo</th>\n",
       "      <th>Position</th>\n",
       "      <th>Starter</th>\n",
       "      <th>game</th>\n",
       "      <th>team</th>\n",
       "      <th>opponent</th>\n",
       "      <th>MIN</th>\n",
       "      <th>...</th>\n",
       "      <th>BLK</th>\n",
       "      <th>OREB</th>\n",
       "      <th>TO</th>\n",
       "      <th>PF</th>\n",
       "      <th>PerfScore</th>\n",
       "      <th>PerfScoreSeasonAvg</th>\n",
       "      <th>PresenceRate</th>\n",
       "      <th>AdjPresenceRate</th>\n",
       "      <th>Statline</th>\n",
       "      <th>PerfScoreSeasonAvgDev</th>\n",
       "    </tr>\n",
       "  </thead>\n",
       "  <tbody>\n",
       "    <tr>\n",
       "      <th>0</th>\n",
       "      <td>12097640</td>\n",
       "      <td>LeBron James</td>\n",
       "      <td>1871</td>\n",
       "      <td>23</td>\n",
       "      <td>PF</td>\n",
       "      <td>Y</td>\n",
       "      <td>{'Game_ID': '1079173', 'GameDay': '2024-04-16'...</td>\n",
       "      <td>{'ID': '27', 'Team': 'L.A. Lakers'}</td>\n",
       "      <td>{'ID': '38', 'Opponent': 'New Orleans'}</td>\n",
       "      <td>40</td>\n",
       "      <td>...</td>\n",
       "      <td>2</td>\n",
       "      <td>0</td>\n",
       "      <td>2</td>\n",
       "      <td>0</td>\n",
       "      <td>[13, 13]</td>\n",
       "      <td>13.32</td>\n",
       "      <td>22.01</td>\n",
       "      <td>26.67</td>\n",
       "      <td>40m 23p 9r 9a 2b</td>\n",
       "      <td>NaN</td>\n",
       "    </tr>\n",
       "    <tr>\n",
       "      <th>1</th>\n",
       "      <td>12097641</td>\n",
       "      <td>Anthony Davis</td>\n",
       "      <td>859</td>\n",
       "      <td>3</td>\n",
       "      <td>C</td>\n",
       "      <td>Y</td>\n",
       "      <td>{'Game_ID': '1079173', 'GameDay': '2024-04-16'...</td>\n",
       "      <td>{'ID': '27', 'Team': 'L.A. Lakers'}</td>\n",
       "      <td>{'ID': '38', 'Opponent': 'New Orleans'}</td>\n",
       "      <td>40</td>\n",
       "      <td>...</td>\n",
       "      <td>3</td>\n",
       "      <td>6</td>\n",
       "      <td>3</td>\n",
       "      <td>4</td>\n",
       "      <td>[12, 12]</td>\n",
       "      <td>13.91</td>\n",
       "      <td>26.32</td>\n",
       "      <td>27.56</td>\n",
       "      <td>40m 20p 15r 3b</td>\n",
       "      <td>NaN</td>\n",
       "    </tr>\n",
       "    <tr>\n",
       "      <th>2</th>\n",
       "      <td>12097642</td>\n",
       "      <td>D'Angelo Russell</td>\n",
       "      <td>3372</td>\n",
       "      <td>1</td>\n",
       "      <td>PG</td>\n",
       "      <td>Y</td>\n",
       "      <td>{'Game_ID': '1079173', 'GameDay': '2024-04-16'...</td>\n",
       "      <td>{'ID': '27', 'Team': 'L.A. Lakers'}</td>\n",
       "      <td>{'ID': '38', 'Opponent': 'New Orleans'}</td>\n",
       "      <td>36</td>\n",
       "      <td>...</td>\n",
       "      <td>1</td>\n",
       "      <td>0</td>\n",
       "      <td>1</td>\n",
       "      <td>3</td>\n",
       "      <td>[8, 8]</td>\n",
       "      <td>8.01</td>\n",
       "      <td>NaN</td>\n",
       "      <td>NaN</td>\n",
       "      <td>36m 21p 6a 1b</td>\n",
       "      <td>NaN</td>\n",
       "    </tr>\n",
       "    <tr>\n",
       "      <th>3</th>\n",
       "      <td>12097643</td>\n",
       "      <td>Rui Hachimura</td>\n",
       "      <td>1686267</td>\n",
       "      <td>28</td>\n",
       "      <td>SF</td>\n",
       "      <td>Y</td>\n",
       "      <td>{'Game_ID': '1079173', 'GameDay': '2024-04-16'...</td>\n",
       "      <td>{'ID': '27', 'Team': 'L.A. Lakers'}</td>\n",
       "      <td>{'ID': '38', 'Opponent': 'New Orleans'}</td>\n",
       "      <td>32</td>\n",
       "      <td>...</td>\n",
       "      <td>0</td>\n",
       "      <td>0</td>\n",
       "      <td>0</td>\n",
       "      <td>2</td>\n",
       "      <td>[5, 5]</td>\n",
       "      <td>5.73</td>\n",
       "      <td>7.66</td>\n",
       "      <td>9.78</td>\n",
       "      <td>32m 13p 1r 1a</td>\n",
       "      <td>NaN</td>\n",
       "    </tr>\n",
       "    <tr>\n",
       "      <th>4</th>\n",
       "      <td>12097644</td>\n",
       "      <td>Austin Reaves</td>\n",
       "      <td>40722893</td>\n",
       "      <td>15</td>\n",
       "      <td>SG</td>\n",
       "      <td>Y</td>\n",
       "      <td>{'Game_ID': '1079173', 'GameDay': '2024-04-16'...</td>\n",
       "      <td>{'ID': '27', 'Team': 'L.A. Lakers'}</td>\n",
       "      <td>{'ID': '38', 'Opponent': 'New Orleans'}</td>\n",
       "      <td>36</td>\n",
       "      <td>...</td>\n",
       "      <td>2</td>\n",
       "      <td>0</td>\n",
       "      <td>0</td>\n",
       "      <td>1</td>\n",
       "      <td>[8, 8]</td>\n",
       "      <td>7.96</td>\n",
       "      <td>11.96</td>\n",
       "      <td>14.22</td>\n",
       "      <td>36m 16p 5r 6a 2b</td>\n",
       "      <td>0.04</td>\n",
       "    </tr>\n",
       "  </tbody>\n",
       "</table>\n",
       "<p>5 rows × 30 columns</p>\n",
       "</div>"
      ],
      "text/plain": [
       "         ID            Player Player_ID PlayerNo Position Starter  \\\n",
       "0  12097640      LeBron James      1871       23       PF       Y   \n",
       "1  12097641     Anthony Davis       859        3        C       Y   \n",
       "2  12097642  D'Angelo Russell      3372        1       PG       Y   \n",
       "3  12097643     Rui Hachimura   1686267       28       SF       Y   \n",
       "4  12097644     Austin Reaves  40722893       15       SG       Y   \n",
       "\n",
       "                                                game  \\\n",
       "0  {'Game_ID': '1079173', 'GameDay': '2024-04-16'...   \n",
       "1  {'Game_ID': '1079173', 'GameDay': '2024-04-16'...   \n",
       "2  {'Game_ID': '1079173', 'GameDay': '2024-04-16'...   \n",
       "3  {'Game_ID': '1079173', 'GameDay': '2024-04-16'...   \n",
       "4  {'Game_ID': '1079173', 'GameDay': '2024-04-16'...   \n",
       "\n",
       "                                  team  \\\n",
       "0  {'ID': '27', 'Team': 'L.A. Lakers'}   \n",
       "1  {'ID': '27', 'Team': 'L.A. Lakers'}   \n",
       "2  {'ID': '27', 'Team': 'L.A. Lakers'}   \n",
       "3  {'ID': '27', 'Team': 'L.A. Lakers'}   \n",
       "4  {'ID': '27', 'Team': 'L.A. Lakers'}   \n",
       "\n",
       "                                  opponent MIN  ... BLK OREB TO PF PerfScore  \\\n",
       "0  {'ID': '38', 'Opponent': 'New Orleans'}  40  ...   2    0  2  0  [13, 13]   \n",
       "1  {'ID': '38', 'Opponent': 'New Orleans'}  40  ...   3    6  3  4  [12, 12]   \n",
       "2  {'ID': '38', 'Opponent': 'New Orleans'}  36  ...   1    0  1  3    [8, 8]   \n",
       "3  {'ID': '38', 'Opponent': 'New Orleans'}  32  ...   0    0  0  2    [5, 5]   \n",
       "4  {'ID': '38', 'Opponent': 'New Orleans'}  36  ...   2    0  0  1    [8, 8]   \n",
       "\n",
       "  PerfScoreSeasonAvg PresenceRate AdjPresenceRate          Statline  \\\n",
       "0              13.32        22.01           26.67  40m 23p 9r 9a 2b   \n",
       "1              13.91        26.32           27.56    40m 20p 15r 3b   \n",
       "2               8.01          NaN             NaN     36m 21p 6a 1b   \n",
       "3               5.73         7.66            9.78     32m 13p 1r 1a   \n",
       "4               7.96        11.96           14.22  36m 16p 5r 6a 2b   \n",
       "\n",
       "  PerfScoreSeasonAvgDev  \n",
       "0                   NaN  \n",
       "1                   NaN  \n",
       "2                   NaN  \n",
       "3                   NaN  \n",
       "4                  0.04  \n",
       "\n",
       "[5 rows x 30 columns]"
      ]
     },
     "execution_count": 6,
     "metadata": {},
     "output_type": "execute_result"
    }
   ],
   "source": [
    "player_game_summary.head()"
   ]
  },
  {
   "cell_type": "code",
   "execution_count": 7,
   "metadata": {},
   "outputs": [
    {
     "data": {
      "text/plain": [
       "dict_keys(['performances', 'success', 'meta'])"
      ]
     },
     "execution_count": 7,
     "metadata": {},
     "output_type": "execute_result"
    }
   ],
   "source": [
    "qry = f'{URL}playerperfs/NBA/?key={KEY}&season=2024&max=1000&page=1'\n",
    "data = get(qry).json()\n",
    "data.keys()"
   ]
  },
  {
   "cell_type": "code",
   "execution_count": null,
   "metadata": {},
   "outputs": [],
   "source": [
    "print(dumps(data['performances'], indent=4))"
   ]
  },
  {
   "cell_type": "code",
   "execution_count": null,
   "metadata": {},
   "outputs": [],
   "source": [
    "print(*data['performances'].values(), sep='\\n')"
   ]
  },
  {
   "cell_type": "code",
   "execution_count": null,
   "metadata": {},
   "outputs": [],
   "source": [
    "df = DataFrame(data['performances'].values())"
   ]
  },
  {
   "cell_type": "code",
   "execution_count": null,
   "metadata": {},
   "outputs": [],
   "source": [
    "df.head()"
   ]
  },
  {
   "cell_type": "code",
   "execution_count": null,
   "metadata": {},
   "outputs": [],
   "source": [
    "df.info()"
   ]
  },
  {
   "cell_type": "code",
   "execution_count": null,
   "metadata": {},
   "outputs": [],
   "source": [
    "df.iloc[0]"
   ]
  },
  {
   "cell_type": "code",
   "execution_count": null,
   "metadata": {},
   "outputs": [],
   "source": [
    "df.iloc[0]['game']"
   ]
  },
  {
   "cell_type": "code",
   "execution_count": null,
   "metadata": {},
   "outputs": [],
   "source": [
    "# Add Columns: Game_ID, Game_Day, Team_ID, Team_Name\n",
    "\n",
    "df['Game_ID'] = df['game'].apply(lambda x: x['Game_ID'].strip())\n",
    "df['Team_ID'] = df['team'].apply(lambda x: x['ID'].strip())\n",
    "df['Opponent_ID'] = df['opponent'].apply(lambda x: x['ID'].strip())\n",
    "df['WinOrLoss'] = df['game'].apply(lambda x: x['WinOrLoss'].strip())\n"
   ]
  },
  {
   "cell_type": "code",
   "execution_count": null,
   "metadata": {},
   "outputs": [],
   "source": [
    "df.info()"
   ]
  },
  {
   "cell_type": "code",
   "execution_count": null,
   "metadata": {},
   "outputs": [],
   "source": [
    "df.loc[df['Player_ID']=='1443'][\n",
    "    [\n",
    "    'ID',\n",
    "    'Player',\n",
    "    'Player_ID',\n",
    "    'Team_ID',\n",
    "    'Game_ID',\n",
    "    'Opponent_ID',\n",
    "    'Statline',\n",
    "    'PerfScore',\n",
    "    'PerfScoreSeasonAvg',\n",
    "    'PerfScoreSeasonAvgDev',\n",
    "    'PresenceRate',\n",
    "    'WinOrLoss'\n",
    "    ]\n",
    "]\n",
    "    "
   ]
  },
  {
   "cell_type": "code",
   "execution_count": null,
   "metadata": {},
   "outputs": [],
   "source": [
    "df['game']"
   ]
  },
  {
   "cell_type": "code",
   "execution_count": null,
   "metadata": {},
   "outputs": [],
   "source": [
    "# Create Data Frame: Game Info\n",
    "game_df = DataFrame(list(df['game']))"
   ]
  },
  {
   "cell_type": "code",
   "execution_count": null,
   "metadata": {},
   "outputs": [],
   "source": [
    "game_df.head()"
   ]
  },
  {
   "cell_type": "code",
   "execution_count": null,
   "metadata": {},
   "outputs": [],
   "source": [
    "game_df.info()"
   ]
  },
  {
   "cell_type": "code",
   "execution_count": null,
   "metadata": {},
   "outputs": [],
   "source": [
    "game_df['venue']"
   ]
  },
  {
   "cell_type": "code",
   "execution_count": null,
   "metadata": {},
   "outputs": [],
   "source": [
    "game_df['Away_Pts']= game_df['Result'].apply(lambda x: x \\\n",
    "    .split(',')[1]\n",
    "    .split('-')[0]\n",
    "    .strip()\n",
    ")\n",
    "game_df['Home_Pts']= game_df['Result'].apply(lambda x: x \\\n",
    "    .split(',')[1]\n",
    "    .split('-')[1]\n",
    "    .strip()\n",
    ")"
   ]
  },
  {
   "cell_type": "code",
   "execution_count": null,
   "metadata": {},
   "outputs": [],
   "source": [
    "game_df['Venue_ID'] = game_df['venue'].apply(lambda x: x['ID'].strip())\n",
    "game_df['Venue_Name'] = game_df['venue'].apply(lambda x: x['Name'].strip())\n",
    "game_df['Venue_City'] = game_df['venue'].apply(lambda x: x['CityState'].strip().split(',')[0])\n",
    "game_df['Venue_State'] = game_df['venue'].apply(lambda x: x['CityState'].strip().split(',')[1])\n"
   ]
  },
  {
   "cell_type": "code",
   "execution_count": null,
   "metadata": {},
   "outputs": [],
   "source": [
    "venue_df = DataFrame(list(game_df['venue']))\n",
    "venue_df.head()"
   ]
  },
  {
   "cell_type": "code",
   "execution_count": null,
   "metadata": {},
   "outputs": [],
   "source": [
    "venue_df.drop_duplicates(keep='first', inplace=True)"
   ]
  },
  {
   "cell_type": "code",
   "execution_count": null,
   "metadata": {},
   "outputs": [],
   "source": [
    "venue_df.info()"
   ]
  },
  {
   "cell_type": "code",
   "execution_count": null,
   "metadata": {},
   "outputs": [],
   "source": [
    "venue_df"
   ]
  },
  {
   "cell_type": "code",
   "execution_count": null,
   "metadata": {},
   "outputs": [],
   "source": [
    "venue_df['City'] = venue_df['CityState'].apply(lambda x: x.split(',')[0].strip())\n",
    "venue_df['State'] = venue_df['CityState'].apply(lambda x: x.split(',')[1].strip())\n",
    "venue_df.drop(columns=['CityState'], inplace=True)"
   ]
  },
  {
   "cell_type": "code",
   "execution_count": null,
   "metadata": {},
   "outputs": [],
   "source": [
    "venue_df"
   ]
  },
  {
   "cell_type": "code",
   "execution_count": null,
   "metadata": {},
   "outputs": [],
   "source": [
    "game_df = game_df.astype(\n",
    "    {\n",
    "        'Game_ID': str,\n",
    "        'Venue_ID': str,\n",
    "        'Away_Pts': int,\n",
    "        'Home_Pts': int,   \n",
    "    }\n",
    ")"
   ]
  },
  {
   "cell_type": "code",
   "execution_count": null,
   "metadata": {},
   "outputs": [],
   "source": [
    "df = df.astype(\n",
    "    {\n",
    "        'Player_ID': str,\n",
    "        'Team_ID': str,\n",
    "        'Game_ID': str,\n",
    "        'Opponent_ID': str,\n",
    "        'MIN': int,\n",
    "        'PTS': int,\n",
    "        'FGM': int,\n",
    "        'FGA': int,\n",
    "        'ThreeFM': int,\n",
    "        'ThreeFA': int,\n",
    "        'FTM': int,\n",
    "        'FTA': int,\n",
    "        'REB': int,\n",
    "        'AST': int,\n",
    "        'STL': int,\n",
    "        'BLK': int,\n",
    "        'OREB': int,\n",
    "        'TO': int,\n",
    "        'PF': int\n",
    "    }\n",
    ")"
   ]
  },
  {
   "cell_type": "code",
   "execution_count": null,
   "metadata": {},
   "outputs": [],
   "source": [
    "game_df.drop(columns=['venue'], inplace=True)"
   ]
  },
  {
   "cell_type": "code",
   "execution_count": null,
   "metadata": {},
   "outputs": [],
   "source": [
    "game_df = game_df.drop_duplicates(keep='first')"
   ]
  },
  {
   "cell_type": "code",
   "execution_count": null,
   "metadata": {},
   "outputs": [],
   "source": [
    "game_df = game_df.rename(columns=\n",
    "    {   \n",
    "    'Description': 'Game_Description',\n",
    "    'Visitor': 'Team_Home',\n",
    "    'Home': 'Team_Away',\n",
    "    'GameDay': 'Game_Date',\n",
    "    'Away_Pts': 'Pts_Away',\n",
    "    'Home_Pts': 'Pts_Home'\n",
    "    }\n",
    ")"
   ]
  },
  {
   "cell_type": "code",
   "execution_count": null,
   "metadata": {},
   "outputs": [],
   "source": [
    "game_df"
   ]
  },
  {
   "cell_type": "code",
   "execution_count": null,
   "metadata": {},
   "outputs": [],
   "source": [
    "game_df.loc[game_df['Team_Away'] == 'Atlanta Hawks']"
   ]
  },
  {
   "cell_type": "code",
   "execution_count": null,
   "metadata": {},
   "outputs": [],
   "source": [
    "df.drop(columns=['team', 'game',  'opponent'], inplace=True)"
   ]
  },
  {
   "cell_type": "code",
   "execution_count": null,
   "metadata": {},
   "outputs": [],
   "source": [
    "fullgame_df = merge(left=df, right=game_df, on=['Game_ID', 'WinOrLoss'], how='inner')"
   ]
  },
  {
   "cell_type": "code",
   "execution_count": null,
   "metadata": {},
   "outputs": [],
   "source": [
    "fullgame_df.head()"
   ]
  },
  {
   "cell_type": "code",
   "execution_count": null,
   "metadata": {},
   "outputs": [],
   "source": [
    "fullgame_df.info()"
   ]
  },
  {
   "cell_type": "code",
   "execution_count": null,
   "metadata": {},
   "outputs": [],
   "source": [
    "fullgame_df"
   ]
  },
  {
   "cell_type": "code",
   "execution_count": null,
   "metadata": {},
   "outputs": [],
   "source": [
    "print(*fullgame_df.columns, sep='\\n')"
   ]
  },
  {
   "cell_type": "code",
   "execution_count": null,
   "metadata": {},
   "outputs": [],
   "source": [
    "fullgame_df = fullgame_df[[\n",
    "    'ID',\n",
    "    'Game_ID',\n",
    "    'Game_Date',\n",
    "    'Game_Description',\n",
    "    'Player_ID',\n",
    "    'Player',\n",
    "    'PlayerNo',\n",
    "    'Position',\n",
    "    'Starter',\n",
    "    'Team_ID',\n",
    "    'Team_Home',\n",
    "    'Team_Away',\n",
    "    'Loc',\n",
    "    'Venue_ID',\n",
    "    'Venue_Name',\n",
    "    'Venue_City',\n",
    "    'Venue_State',\n",
    "    'Statline',\n",
    "    'WinOrLoss',\n",
    "    'MIN',\n",
    "    'PTS',\n",
    "    'FGM',\n",
    "    'FGA',\n",
    "    'ThreeFM',\n",
    "    'ThreeFA',\n",
    "    'FTM',\n",
    "    'FTA',\n",
    "    'REB',\n",
    "    'OREB',\n",
    "    'TO',\n",
    "    'PF',\n",
    "    'PerfScore',\n",
    "    'PerfScoreSeasonAvg',\n",
    "    'PerfScoreSeasonAvgDev',\n",
    "    'PresenceRate',\n",
    "    'AdjPresenceRate'\n",
    "]]"
   ]
  },
  {
   "cell_type": "code",
   "execution_count": null,
   "metadata": {},
   "outputs": [],
   "source": [
    "fullgame_df"
   ]
  },
  {
   "cell_type": "code",
   "execution_count": null,
   "metadata": {},
   "outputs": [],
   "source": [
    "fullgame_df.loc[fullgame_df['Player'] == 'Shake Milton'][\n",
    "    [\n",
    "        'Game_ID',\n",
    "        'Game_Date',\n",
    "        'Game_Description',\n",
    "        'Player',\n",
    "        'Position',\n",
    "        'PlayerNo',\n",
    "        'Starter',\n",
    "        'Statline',\n",
    "        'WinOrLoss',\n",
    "        'Loc',\n",
    "        'Venue_Name'\n",
    "    ]\n",
    "]"
   ]
  },
  {
   "cell_type": "code",
   "execution_count": null,
   "metadata": {},
   "outputs": [],
   "source": []
  }
 ],
 "metadata": {
  "kernelspec": {
   "display_name": "DataAnalytics",
   "language": "python",
   "name": "python3"
  },
  "language_info": {
   "codemirror_mode": {
    "name": "ipython",
    "version": 3
   },
   "file_extension": ".py",
   "mimetype": "text/x-python",
   "name": "python",
   "nbconvert_exporter": "python",
   "pygments_lexer": "ipython3",
   "version": "3.12.3"
  }
 },
 "nbformat": 4,
 "nbformat_minor": 2
}
